{
 "cells": [
  {
   "cell_type": "markdown",
   "metadata": {},
   "source": [
    "# XND\n",
    "\n",
    "**XND** is a library for typed memory blocks.\n",
    "\n",
    "libxnd implements support for typed memory blocks using the libndtypes type library.\n",
    "\n",
    "The xnd module implements a container type that maps most Python values relevant for scientific computing directly to typed memory.\n",
    "\n",
    "XND has a superset of features for typed memory than similar libraries like [numpy record arrays](https://docs.scipy.org/doc/numpy/user/basics.rec.html) and [apache arrow](https://arrow.apache.org/).\n",
    "\n",
    "This is a quick tour of what XND can do."
   ]
  },
  {
   "cell_type": "code",
   "execution_count": 6,
   "metadata": {},
   "outputs": [],
   "source": [
    "from xnd import xnd\n",
    "import numpy as np # numpy is only to easily initialize"
   ]
  },
  {
   "cell_type": "markdown",
   "metadata": {},
   "source": [
    "## Construct from python data types. \n",
    "\n",
    "XND is infering the type of each element"
   ]
  },
  {
   "cell_type": "code",
   "execution_count": 13,
   "metadata": {},
   "outputs": [
    {
     "data": {
      "text/plain": [
       "xnd([[1, 2], [3, 4]], type='2 * 2 * int64')"
      ]
     },
     "execution_count": 13,
     "metadata": {},
     "output_type": "execute_result"
    }
   ],
   "source": [
    "xnd([[1, 2], [3, 4]])"
   ]
  },
  {
   "cell_type": "code",
   "execution_count": 4,
   "metadata": {},
   "outputs": [
    {
     "data": {
      "text/plain": [
       "xnd([{'b': [10.2, 232.3]}, {'b': [0.2, 0.23]}], type='2 * {b : 2 * float64}')"
      ]
     },
     "execution_count": 4,
     "metadata": {},
     "output_type": "execute_result"
    }
   ],
   "source": [
    "xnd([{'b': [10.2, 232.3]}, {'b': [0.2, 0.23]}])"
   ]
  },
  {
   "cell_type": "markdown",
   "metadata": {},
   "source": [
    "## Construct from simple numpy arrays and record arrays"
   ]
  },
  {
   "cell_type": "code",
   "execution_count": 5,
   "metadata": {},
   "outputs": [
    {
     "data": {
      "text/plain": [
       "xnd([[0, 1], [2, 3], [4, 5]], type='3 * 2 * int64')"
      ]
     },
     "execution_count": 5,
     "metadata": {},
     "output_type": "execute_result"
    }
   ],
   "source": [
    "xnd.from_buffer(np.arange(6).reshape(3, 2))"
   ]
  },
  {
   "cell_type": "code",
   "execution_count": 16,
   "metadata": {},
   "outputs": [
    {
     "data": {
      "text/plain": [
       "xnd([[0.8540057107435695, 0.48086368979187144, 0.1398795923769368],\n",
       "     [0.4814720192072103, 0.7345988910169547, 0.6502482700094088]],\n",
       "    type='2 * 3 * float64')"
      ]
     },
     "execution_count": 16,
     "metadata": {},
     "output_type": "execute_result"
    }
   ],
   "source": [
    "xnd.from_buffer(np.random.random((2, 3)))"
   ]
  },
  {
   "cell_type": "code",
   "execution_count": 14,
   "metadata": {},
   "outputs": [
    {
     "data": {
      "text/plain": [
       "xnd([{'x': 1000, 'y': 400.25, 'z': b'abc'}, {'x': -23, 'y': -10000000000.0, 'z': b'cba'}],\n",
       "    type='2 * {x : int32, y : >float32, z : fixed_bytes(size=3)}')"
      ]
     },
     "execution_count": 14,
     "metadata": {},
     "output_type": "execute_result"
    }
   ],
   "source": [
    "x = np.array([(1000, 400.25, 'abc'), (-23, -1e10, 'cba')],\n",
    "             dtype=[('x', '<i4'), ('y', '>f4'), ('z', 'S3')])\n",
    "xnd.from_buffer(x)"
   ]
  },
  {
   "cell_type": "markdown",
   "metadata": {},
   "source": [
    "## Constructing with predefined types\n",
    "\n",
    "Constructing from with predefined types has significant performance advantages for large arrays. This is becuase xnd does not have to infer the type for each element."
   ]
  },
  {
   "cell_type": "code",
   "execution_count": 8,
   "metadata": {},
   "outputs": [
    {
     "name": "stdout",
     "output_type": "stream",
     "text": [
      "203 ms ± 7.61 ms per loop (mean ± std. dev. of 7 runs, 1 loop each)\n"
     ]
    }
   ],
   "source": [
    "%%timeit\n",
    "N = 100000\n",
    "xnd(N * [1])"
   ]
  },
  {
   "cell_type": "code",
   "execution_count": 12,
   "metadata": {},
   "outputs": [
    {
     "name": "stdout",
     "output_type": "stream",
     "text": [
      "8.33 ms ± 125 µs per loop (mean ± std. dev. of 7 runs, 100 loops each)\n"
     ]
    }
   ],
   "source": [
    "%%timeit\n",
    "N = 100000\n",
    "types = f\"{N} * float64\"\n",
    "xnd(N * [1], type=types)"
   ]
  },
  {
   "cell_type": "code",
   "execution_count": null,
   "metadata": {},
   "outputs": [],
   "source": []
  }
 ],
 "metadata": {
  "kernelspec": {
   "display_name": "Python 3",
   "language": "python",
   "name": "python3"
  },
  "language_info": {
   "codemirror_mode": {
    "name": "ipython",
    "version": 3
   },
   "file_extension": ".py",
   "mimetype": "text/x-python",
   "name": "python",
   "nbconvert_exporter": "python",
   "pygments_lexer": "ipython3",
   "version": "3.6.5"
  }
 },
 "nbformat": 4,
 "nbformat_minor": 2
}
